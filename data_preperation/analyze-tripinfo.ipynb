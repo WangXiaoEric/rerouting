{
 "cells": [
  {
   "cell_type": "code",
   "execution_count": 1,
   "metadata": {},
   "outputs": [],
   "source": [
    "import xml.etree.cElementTree as ET\n",
    "import numpy as np\n",
    "import csv"
   ]
  },
  {
   "cell_type": "code",
   "execution_count": null,
   "metadata": {
    "scrolled": true
   },
   "outputs": [
    {
     "name": "stdout",
     "output_type": "stream",
     "text": [
      "mean duration： 1008.43195\n",
      "mean reroutingtimes:  0.8122272727272727\n",
      "--------------------\n",
      "mean duration： 938.9144341666668\n",
      "mean reroutingtimes:  0.7677272727272727\n",
      "--------------------\n",
      "mean duration： 953.11767\n",
      "mean reroutingtimes:  0.7506818181818182\n",
      "--------------------\n",
      "mean duration： 972.5208066666667\n",
      "mean reroutingtimes:  0.8264545454545454\n",
      "--------------------\n",
      "mean duration： 993.125485\n",
      "mean reroutingtimes:  0.7988181818181819\n",
      "--------------------\n",
      "mean duration： 921.9828558333332\n",
      "mean reroutingtimes:  0.734\n",
      "--------------------\n",
      "mean duration： 1003.96283\n",
      "mean reroutingtimes:  0.8145\n",
      "--------------------\n",
      "mean duration： 1017.1672316666668\n",
      "mean reroutingtimes:  0.8078181818181818\n",
      "--------------------\n",
      "mean duration："
     ]
    }
   ],
   "source": [
    "total_mean_duration = []\n",
    "total_mean_routeLength = []\n",
    "numbers_of_reroutingcars = []\n",
    "times = []\n",
    "#車子總數\n",
    "totalcar = 22000\n",
    "Dirname = \"test\"\n",
    "for i in range(0,15):\n",
    "    # 檔案路徑自行設定即可\n",
    "    tree = ET.ElementTree(file='trip_info/'+Dirname+'/tripinfo'+str(i+1)+'.xml')\n",
    "    tree.getroot()\n",
    "    root = tree.getroot()\n",
    "\n",
    "    duration = []\n",
    "    routeLength = []\n",
    "    norerouting = []\n",
    "    rerouting = []\n",
    "    reroutingtimes = 0\n",
    "\n",
    "    nore_duration = []\n",
    "    nore_routeLength = []\n",
    "\n",
    "    re_duration = []\n",
    "    re_routeLength = []\n",
    "    for elem in tree.iter(tag='tripinfo'):\n",
    "        duration.append(float(elem.attrib['duration'])+float(elem.attrib['departDelay']))\n",
    "            \n",
    "        if elem.attrib['rerouteNo'] != \"0\":\n",
    "            reroutingtimes += int(elem.attrib['rerouteNo'])  \n",
    "                         \n",
    "            \n",
    "    total_mean_duration.append(np.mean(duration))\n",
    "    times.append(reroutingtimes/totalcar)\n",
    "    \n",
    "    print(\"mean duration：\",np.mean(duration))\n",
    "    print(\"mean reroutingtimes: \",reroutingtimes/totalcar)\n",
    "    print(\"--------------------\")\n",
    "    \n",
    "print(\"total mean duration：\",np.mean(total_mean_duration))\n",
    "print(\"mean numbers of re-routing times：\",np.mean(times))\n",
    "print(\"mean duration std: \",np.std(total_mean_duration)/np.sqrt(len(total_mean_duration)) )\n",
    "print(\"reroute times std: \",np.std(times)/np.sqrt(len(times)) )\n",
    "#print(\"duplicate reroute car: \" ,np.mean(carreroutingtimes))\n",
    "#print(\"total mean routeLength：\",np.mean(total_mean_routeLength))"
   ]
  },
  {
   "cell_type": "code",
   "execution_count": null,
   "metadata": {},
   "outputs": [],
   "source": []
  }
 ],
 "metadata": {
  "kernelspec": {
   "display_name": "Python 3",
   "language": "python",
   "name": "python3"
  },
  "language_info": {
   "codemirror_mode": {
    "name": "ipython",
    "version": 3
   },
   "file_extension": ".py",
   "mimetype": "text/x-python",
   "name": "python",
   "nbconvert_exporter": "python",
   "pygments_lexer": "ipython3",
   "version": "3.8.5"
  }
 },
 "nbformat": 4,
 "nbformat_minor": 2
}
